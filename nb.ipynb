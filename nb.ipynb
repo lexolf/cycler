{
 "metadata": {
  "language_info": {
   "codemirror_mode": {
    "name": "ipython",
    "version": 3
   },
   "file_extension": ".py",
   "mimetype": "text/x-python",
   "name": "python",
   "nbconvert_exporter": "python",
   "pygments_lexer": "ipython3",
   "version": "3.8.0-final"
  },
  "orig_nbformat": 2,
  "kernelspec": {
   "name": "python_defaultSpec_1600946412067",
   "display_name": "Python 3.8.0 32-bit"
  }
 },
 "nbformat": 4,
 "nbformat_minor": 2,
 "cells": [
  {
   "cell_type": "code",
   "execution_count": 4,
   "metadata": {
    "tags": []
   },
   "outputs": [
    {
     "output_type": "stream",
     "name": "stdout",
     "text": "This is not an xlsx file\nSkipping non-record sheet\nSkipping non-record sheet\nSkipping non-record sheet\nSkipping non-record sheet\nSkipping non-record sheet\nThis is not an xlsx file\nThis is not an xlsx file\nThis is not an xlsx file\nThis is not an xlsx file\nThis is not an xlsx file\nThis is not an xlsx file\nThis is not an xlsx file\nThis is not an xlsx file\n"
    }
   ],
   "source": [
    "import pandas as pd\n",
    "import os\n",
    "import pathlib\n",
    "\n",
    "# This script needs xlrd!\n",
    "\n",
    "def record_to_csv(file, filename, mode):\n",
    "    \"\"\"Convert Record sheets to csv file\"\"\"\n",
    "    excel_file = pd.read_excel(file, sheet_name=None) # read the file\n",
    "    df = pd.DataFrame() # create DataFrame to store data\n",
    "    for name, sheet in excel_file.items(): \n",
    "        sheet['sheet'] = name # for each sheet append a column entitled with sheet label\n",
    "        if \"Record__\" in f'{name}': # if it is a record sheet, append it to the main DataFrame\n",
    "            header = sheet.iloc[0]\n",
    "            sheet.columns = header\n",
    "            sheet = sheet[1:]              \n",
    "            df = pd.concat([df, sheet], ignore_index=True, sort=False)\n",
    "        else:\n",
    "            print(\"Skipping non-record sheet\")\n",
    "    df.reset_index(inplace=True, drop=True) # reset index so that it is cumulative throughout merged sheets\n",
    "    if mode==\"full\":\n",
    "        df.to_csv(os.path.join(pathlib.Path().absolute(),filename)+'_record'+'.csv', index=False, sep=\"\\t\") # save file\n",
    "    if mode==\"compact\":\n",
    "        df = df[['Cycle ID', 'Step ID', 'Time(H:M:S:ms)', 'RCap_Chg', 'RCap_DChg']]\n",
    "        df.to_csv(os.path.join(pathlib.Path().absolute(),filename)+'_cycle_compact'+'.csv', index=False, sep=\"\\t\") # save file\n",
    "    if mode==\"ultracompact\": \n",
    "        df = df[['CmpCap', 'Vol', 'Step ID']] # save only 'main' columns\n",
    "        df.to_csv(os.path.join(pathlib.Path().absolute(),filename)+'_record_ultracompact'+'.csv', index=False, sep=\"\\t\") # save file\n",
    "\n",
    "    \n",
    "def cycle_to_csv(file, filename, mode):\n",
    "    \"\"\"Convert Cycle sheet to csv file\"\"\"\n",
    "    df = pd.read_excel(file, sheet_name='Cycle') # read the sheet 'Cycle'\n",
    "    header = df.iloc[0]  # get header from first row\n",
    "    df = df[1:] # remove first row \n",
    "    df.columns = header # set headers for columns\n",
    "    if mode==\"full\":\n",
    "        df.to_csv(os.path.join(pathlib.Path().absolute(),filename)+'_cycle'+'.csv', index=False, sep=\"\\t\") # save file\n",
    "    if mode==\"compact\":\n",
    "        df = df[['Cycle ID', 'Cap_Chg', 'Cap_DChg', 'RCap_Chg', 'RCap_DChg']]\n",
    "        df.to_csv(os.path.join(pathlib.Path().absolute(),filename)+'_cycle_compact'+'.csv', index=False, sep=\"\\t\") # save file\n",
    "    if mode==\"ultracompact\":\n",
    "        df = df[['Cycle ID', 'RCap_Chg', 'RCap_DChg']]\n",
    "        df.to_csv(os.path.join(pathlib.Path().absolute(),filename)+'_cycle_ultracompact'+'.csv', index=False, sep=\"\\t\") # save file\n",
    "\n",
    "def xlsx_to_csv(file, mode):\n",
    "    \"\"\"Convert xlsx of cycler data to text file\"\"\"\n",
    "    filename, file_extension = os.path.splitext(file) \n",
    "    if file_extension == '.xlsx': # extract data only from xlsx files\n",
    "        cycle_to_csv(file, filename, mode)\n",
    "        record_to_csv(file, filename, mode)\n",
    "    else:\n",
    "        print(\"This is not an xlsx file\")\n",
    "\n",
    "def send_files_to_converter(path=\"\"):\n",
    "    \"\"\"Convert each file in path\"\"\"\n",
    "    if path==\"\":\n",
    "      path = os.listdir(pathlib.Path().absolute())\n",
    "    for file in path:\n",
    "        xlsx_to_csv(file, \"ultracompact\")\n",
    "\n",
    "current_path_contents = os.listdir(pathlib.Path().absolute()) # get files in current folder\n",
    "send_files_to_converter(current_path_contents)"
   ]
  }
 ]
}